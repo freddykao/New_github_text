{
  "nbformat": 4,
  "nbformat_minor": 0,
  "metadata": {
    "kernelspec": {
      "display_name": "Python 3",
      "language": "python",
      "name": "python3"
    },
    "language_info": {
      "codemirror_mode": {
        "name": "ipython",
        "version": 3
      },
      "file_extension": ".py",
      "mimetype": "text/x-python",
      "name": "python",
      "nbconvert_exporter": "python",
      "pygments_lexer": "ipython3",
      "version": "3.5.4"
    },
    "colab": {
      "name": "Day047_MobileNetv2_HW.ipynb",
      "provenance": []
    }
  },
  "cells": [
    {
      "cell_type": "markdown",
      "metadata": {
        "id": "0xLfIW4sESDS",
        "colab_type": "text"
      },
      "source": [
        "# 作業"
      ]
    },
    {
      "cell_type": "markdown",
      "metadata": {
        "id": "mssQPDlsESDT",
        "colab_type": "text"
      },
      "source": [
        "### 嘗試用 keras 的 DepthwiseConv2D 等 layers 實做 Inverted Residual Block.\n",
        "   - depthwise's filter shape 爲 (3,3), padding = same\n",
        "   - 不需要給 alpha, depth multiplier 參數\n",
        "   - expansion 因子爲 6"
      ]
    },
    {
      "cell_type": "markdown",
      "metadata": {
        "id": "8dDzSUahESDW",
        "colab_type": "text"
      },
      "source": [
        "##### 載入套件"
      ]
    },
    {
      "cell_type": "code",
      "metadata": {
        "id": "ZhHpkKlyESDY",
        "colab_type": "code",
        "colab": {
          "base_uri": "https://localhost:8080/",
          "height": 34
        },
        "outputId": "4cd10b41-2ace-4128-af79-82030e7d358e"
      },
      "source": [
        "from keras.models import Input, Model\n",
        "from keras.layers import DepthwiseConv2D, Conv2D, BatchNormalization, ReLU, Add"
      ],
      "execution_count": 1,
      "outputs": [
        {
          "output_type": "stream",
          "text": [
            "Using TensorFlow backend.\n"
          ],
          "name": "stderr"
        }
      ]
    },
    {
      "cell_type": "markdown",
      "metadata": {
        "id": "5gakngaLESDd",
        "colab_type": "text"
      },
      "source": [
        "##### 定義 Separable Convolution 函數 (請在此實做)"
      ]
    },
    {
      "cell_type": "code",
      "metadata": {
        "id": "oA3nXiwTESDf",
        "colab_type": "code",
        "colab": {}
      },
      "source": [
        "def InvertedRes(input, expansion):\n",
        "    '''\n",
        "    Args:\n",
        "        input: input tensor\n",
        "        expansion: expand filters size\n",
        "    Output:\n",
        "        output: output tensor\n",
        "    '''\n",
        "    # Expansion Layer\n",
        "    x = Conv2D(expansion * 3,(1,1),padding=\"same\")(input)\n",
        "    x = BatchNormalization()(x)\n",
        "    x = ReLU()(x)\n",
        "\n",
        "    # Depthwise Convolution\n",
        "    x = DepthwiseConv2D((3,3), padding=\"same\")(input)\n",
        "    x = BatchNormalization()(x)\n",
        "    x = ReLU()(x)\n",
        "\n",
        "    # Add Layer\n",
        "    x = Add()([input,x])\n",
        "\n",
        "    return x"
      ],
      "execution_count": 0,
      "outputs": []
    },
    {
      "cell_type": "markdown",
      "metadata": {
        "id": "SEmp-a-hESDk",
        "colab_type": "text"
      },
      "source": [
        "##### 建構模型"
      ]
    },
    {
      "cell_type": "code",
      "metadata": {
        "id": "BzZBLXO6ESDl",
        "colab_type": "code",
        "colab": {
          "base_uri": "https://localhost:8080/",
          "height": 356
        },
        "outputId": "8985d1d0-52e6-4834-ce85-7baff2d47e63"
      },
      "source": [
        "input = Input((64, 64, 3))\n",
        "output = InvertedRes(input, 6)\n",
        "model = Model(inputs=input, outputs=output)\n",
        "model.summary()"
      ],
      "execution_count": 3,
      "outputs": [
        {
          "output_type": "stream",
          "text": [
            "Model: \"model_1\"\n",
            "__________________________________________________________________________________________________\n",
            "Layer (type)                    Output Shape         Param #     Connected to                     \n",
            "==================================================================================================\n",
            "input_1 (InputLayer)            (None, 64, 64, 3)    0                                            \n",
            "__________________________________________________________________________________________________\n",
            "depthwise_conv2d_1 (DepthwiseCo (None, 64, 64, 3)    30          input_1[0][0]                    \n",
            "__________________________________________________________________________________________________\n",
            "batch_normalization_2 (BatchNor (None, 64, 64, 3)    12          depthwise_conv2d_1[0][0]         \n",
            "__________________________________________________________________________________________________\n",
            "re_lu_2 (ReLU)                  (None, 64, 64, 3)    0           batch_normalization_2[0][0]      \n",
            "__________________________________________________________________________________________________\n",
            "add_1 (Add)                     (None, 64, 64, 3)    0           input_1[0][0]                    \n",
            "                                                                 re_lu_2[0][0]                    \n",
            "==================================================================================================\n",
            "Total params: 42\n",
            "Trainable params: 36\n",
            "Non-trainable params: 6\n",
            "__________________________________________________________________________________________________\n"
          ],
          "name": "stdout"
        }
      ]
    },
    {
      "cell_type": "code",
      "metadata": {
        "id": "dLxh5n2UESDu",
        "colab_type": "code",
        "colab": {}
      },
      "source": [
        ""
      ],
      "execution_count": 0,
      "outputs": []
    }
  ]
}